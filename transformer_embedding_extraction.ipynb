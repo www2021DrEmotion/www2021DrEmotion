{
 "cells": [
  {
   "cell_type": "code",
   "execution_count": null,
   "metadata": {},
   "outputs": [],
   "source": [
    "from simpletransformers.classification import MultiLabelClassificationModel\n",
    "import pandas as pd\n",
    "import csv\n",
    "\n",
    "#load data\n",
    "data_path = ''\n",
    "text = pd.read_csv(data_path)['text'].tolist()\n",
    "\n",
    "#defining hook\n",
    "class Hook():\n",
    "    def __init__(self, module, backward=False):\n",
    "        if backward==False:\n",
    "            self.hook = module.register_forward_hook(self.hook_fn)\n",
    "        else:\n",
    "            self.hook = module.register_backward_hook(self.hook_fn)\n",
    "    def hook_fn(self, module, input, output):\n",
    "        self.input = input\n",
    "        self.output = output\n",
    "    def close(self):\n",
    "        self.hook.remove()"
   ]
  },
  {
   "cell_type": "code",
   "execution_count": null,
   "metadata": {},
   "outputs": [],
   "source": [
    "model = MultiLabelClassificationModel('roberta', '<MODEL_ADDRESS>')\n",
    "layer = list(model.model._modules.items())[-1][1].summary\n",
    "hook = Hook(layer)\n",
    "with open('embedding.csv', mode='a+') as file:\n",
    "    writer = csv.writer(file,delimiter=',')\n",
    "    for element in text:\n",
    "            model.predict([element])\n",
    "            writer.writerow(hook.input[0][0].cpu().numpy())\n",
    "print(\"finsihed\")"
   ]
  }
 ],
 "metadata": {
  "kernelspec": {
   "display_name": "Python 3",
   "language": "python",
   "name": "python3"
  },
  "language_info": {
   "codemirror_mode": {
    "name": "ipython",
    "version": 3
   },
   "file_extension": ".py",
   "mimetype": "text/x-python",
   "name": "python",
   "nbconvert_exporter": "python",
   "pygments_lexer": "ipython3",
   "version": "3.7.6"
  }
 },
 "nbformat": 4,
 "nbformat_minor": 4
}
